{
 "cells": [
  {
   "cell_type": "code",
   "execution_count": 1,
   "metadata": {},
   "outputs": [],
   "source": [
    "from sklearn.linear_model import LinearRegression\n",
    "import numpy as np\n",
    "import matplotlib.pyplot as plt\n",
    "from sklearn.svm import SVR\n",
    "import pandas as pd\n",
    "from sklearn.neighbors import KNeighborsClassifier\n",
    "import json\n",
    "import os\n",
    "import sys"
   ]
  },
  {
   "cell_type": "code",
   "execution_count": 9,
   "metadata": {},
   "outputs": [
    {
     "data": {
      "text/plain": [
       "(6234, 12)"
      ]
     },
     "execution_count": 9,
     "metadata": {},
     "output_type": "execute_result"
    }
   ],
   "source": [
    "module_dir =  os.getcwd()\n",
    "file_path = os.path.join(module_dir, 'data\\\\netflix_titles.csv') \n",
    "data = pd.read_csv(file_path)\n",
    "data.shape"
   ]
  },
  {
   "cell_type": "code",
   "execution_count": 10,
   "metadata": {},
   "outputs": [
    {
     "data": {
      "text/plain": [
       "74808"
      ]
     },
     "execution_count": 10,
     "metadata": {},
     "output_type": "execute_result"
    }
   ],
   "source": [
    "data.size"
   ]
  },
  {
   "cell_type": "code",
   "execution_count": 11,
   "metadata": {},
   "outputs": [
    {
     "data": {
      "text/plain": [
       "show_id            0\n",
       "type               0\n",
       "title              0\n",
       "director        1969\n",
       "cast             570\n",
       "country          476\n",
       "date_added        11\n",
       "release_year       0\n",
       "rating            10\n",
       "duration           0\n",
       "listed_in          0\n",
       "description        0\n",
       "dtype: int64"
      ]
     },
     "execution_count": 11,
     "metadata": {},
     "output_type": "execute_result"
    }
   ],
   "source": [
    "# Obtenir le nombre de valeur null\n",
    "emptyValues = pd.isnull(data).sum()\n",
    "count  = emptyValues.sum()\n",
    "emptyValues"
   ]
  },
  {
   "cell_type": "code",
   "execution_count": 12,
   "metadata": {},
   "outputs": [],
   "source": [
    "data = data.dropna()"
   ]
  },
  {
   "cell_type": "code",
   "execution_count": 13,
   "metadata": {},
   "outputs": [
    {
     "data": {
      "text/plain": [
       "45288"
      ]
     },
     "execution_count": 13,
     "metadata": {},
     "output_type": "execute_result"
    }
   ],
   "source": [
    "data.size"
   ]
  },
  {
   "cell_type": "code",
   "execution_count": 14,
   "metadata": {},
   "outputs": [],
   "source": [
    "data['duration'].replace(['1 Season','2 Seasons','3 Seasons','4 Seasons','5 Seasons','6 Seasons','7 Seasons','8 Seasons','9 Seasons','10 Seasons','11 Seasons','12 Seasons','13 Seasons'],['300','600','900','1200','1500','1800','2100','2400','2700','3000','3300','3600','3900'],inplace=True)"
   ]
  },
  {
   "cell_type": "code",
   "execution_count": 15,
   "metadata": {},
   "outputs": [
    {
     "data": {
      "text/html": [
       "<div>\n",
       "<style scoped>\n",
       "    .dataframe tbody tr th:only-of-type {\n",
       "        vertical-align: middle;\n",
       "    }\n",
       "\n",
       "    .dataframe tbody tr th {\n",
       "        vertical-align: top;\n",
       "    }\n",
       "\n",
       "    .dataframe thead th {\n",
       "        text-align: right;\n",
       "    }\n",
       "</style>\n",
       "<table border=\"1\" class=\"dataframe\">\n",
       "  <thead>\n",
       "    <tr style=\"text-align: right;\">\n",
       "      <th></th>\n",
       "      <th>show_id</th>\n",
       "      <th>type</th>\n",
       "      <th>title</th>\n",
       "      <th>director</th>\n",
       "      <th>cast</th>\n",
       "      <th>country</th>\n",
       "      <th>date_added</th>\n",
       "      <th>release_year</th>\n",
       "      <th>rating</th>\n",
       "      <th>duration</th>\n",
       "      <th>listed_in</th>\n",
       "      <th>description</th>\n",
       "    </tr>\n",
       "  </thead>\n",
       "  <tbody>\n",
       "    <tr>\n",
       "      <th>0</th>\n",
       "      <td>81145628</td>\n",
       "      <td>Movie</td>\n",
       "      <td>Norm of the North: King Sized Adventure</td>\n",
       "      <td>Richard Finn, Tim Maltby</td>\n",
       "      <td>Alan Marriott, Andrew Toth, Brian Dobson, Cole...</td>\n",
       "      <td>United States, India, South Korea, China</td>\n",
       "      <td>September 9, 2019</td>\n",
       "      <td>2019</td>\n",
       "      <td>TV-PG</td>\n",
       "      <td>90 min</td>\n",
       "      <td>Children &amp; Family Movies, Comedies</td>\n",
       "      <td>Before planning an awesome wedding for his gra...</td>\n",
       "    </tr>\n",
       "    <tr>\n",
       "      <th>4</th>\n",
       "      <td>80125979</td>\n",
       "      <td>Movie</td>\n",
       "      <td>#realityhigh</td>\n",
       "      <td>Fernando Lebrija</td>\n",
       "      <td>Nesta Cooper, Kate Walsh, John Michael Higgins...</td>\n",
       "      <td>United States</td>\n",
       "      <td>September 8, 2017</td>\n",
       "      <td>2017</td>\n",
       "      <td>TV-14</td>\n",
       "      <td>99 min</td>\n",
       "      <td>Comedies</td>\n",
       "      <td>When nerdy high schooler Dani finally attracts...</td>\n",
       "    </tr>\n",
       "    <tr>\n",
       "      <th>6</th>\n",
       "      <td>70304989</td>\n",
       "      <td>Movie</td>\n",
       "      <td>Automata</td>\n",
       "      <td>Gabe Ibáñez</td>\n",
       "      <td>Antonio Banderas, Dylan McDermott, Melanie Gri...</td>\n",
       "      <td>Bulgaria, United States, Spain, Canada</td>\n",
       "      <td>September 8, 2017</td>\n",
       "      <td>2014</td>\n",
       "      <td>R</td>\n",
       "      <td>110 min</td>\n",
       "      <td>International Movies, Sci-Fi &amp; Fantasy, Thrillers</td>\n",
       "      <td>In a dystopian future, an insurance adjuster f...</td>\n",
       "    </tr>\n",
       "    <tr>\n",
       "      <th>7</th>\n",
       "      <td>80164077</td>\n",
       "      <td>Movie</td>\n",
       "      <td>Fabrizio Copano: Solo pienso en mi</td>\n",
       "      <td>Rodrigo Toro, Francisco Schultz</td>\n",
       "      <td>Fabrizio Copano</td>\n",
       "      <td>Chile</td>\n",
       "      <td>September 8, 2017</td>\n",
       "      <td>2017</td>\n",
       "      <td>TV-MA</td>\n",
       "      <td>60 min</td>\n",
       "      <td>Stand-Up Comedy</td>\n",
       "      <td>Fabrizio Copano takes audience participation t...</td>\n",
       "    </tr>\n",
       "    <tr>\n",
       "      <th>9</th>\n",
       "      <td>70304990</td>\n",
       "      <td>Movie</td>\n",
       "      <td>Good People</td>\n",
       "      <td>Henrik Ruben Genz</td>\n",
       "      <td>James Franco, Kate Hudson, Tom Wilkinson, Omar...</td>\n",
       "      <td>United States, United Kingdom, Denmark, Sweden</td>\n",
       "      <td>September 8, 2017</td>\n",
       "      <td>2014</td>\n",
       "      <td>R</td>\n",
       "      <td>90 min</td>\n",
       "      <td>Action &amp; Adventure, Thrillers</td>\n",
       "      <td>A struggling couple can't believe their luck w...</td>\n",
       "    </tr>\n",
       "    <tr>\n",
       "      <th>...</th>\n",
       "      <td>...</td>\n",
       "      <td>...</td>\n",
       "      <td>...</td>\n",
       "      <td>...</td>\n",
       "      <td>...</td>\n",
       "      <td>...</td>\n",
       "      <td>...</td>\n",
       "      <td>...</td>\n",
       "      <td>...</td>\n",
       "      <td>...</td>\n",
       "      <td>...</td>\n",
       "      <td>...</td>\n",
       "    </tr>\n",
       "    <tr>\n",
       "      <th>6142</th>\n",
       "      <td>80063224</td>\n",
       "      <td>TV Show</td>\n",
       "      <td>The Great British Baking Show</td>\n",
       "      <td>Andy Devonshire</td>\n",
       "      <td>Mel Giedroyc, Sue Perkins, Mary Berry, Paul Ho...</td>\n",
       "      <td>United Kingdom</td>\n",
       "      <td>August 30, 2019</td>\n",
       "      <td>2019</td>\n",
       "      <td>TV-PG</td>\n",
       "      <td>2100</td>\n",
       "      <td>British TV Shows, Reality TV</td>\n",
       "      <td>A talented batch of amateur bakers face off in...</td>\n",
       "    </tr>\n",
       "    <tr>\n",
       "      <th>6158</th>\n",
       "      <td>80164216</td>\n",
       "      <td>TV Show</td>\n",
       "      <td>Miraculous: Tales of Ladybug &amp; Cat Noir</td>\n",
       "      <td>Thomas Astruc</td>\n",
       "      <td>Cristina Vee, Bryce Papenbrook, Keith Silverst...</td>\n",
       "      <td>France, South Korea, Japan</td>\n",
       "      <td>August 2, 2019</td>\n",
       "      <td>2018</td>\n",
       "      <td>TV-Y7</td>\n",
       "      <td>1200</td>\n",
       "      <td>Kids' TV, TV Action &amp; Adventure</td>\n",
       "      <td>When Paris is in peril, Marinette becomes Lady...</td>\n",
       "    </tr>\n",
       "    <tr>\n",
       "      <th>6167</th>\n",
       "      <td>80115328</td>\n",
       "      <td>TV Show</td>\n",
       "      <td>Sacred Games</td>\n",
       "      <td>Vikramaditya Motwane, Anurag Kashyap</td>\n",
       "      <td>Saif Ali Khan, Nawazuddin Siddiqui, Radhika Ap...</td>\n",
       "      <td>India, United States</td>\n",
       "      <td>August 15, 2019</td>\n",
       "      <td>2019</td>\n",
       "      <td>TV-MA</td>\n",
       "      <td>600</td>\n",
       "      <td>Crime TV Shows, International TV Shows, TV Dramas</td>\n",
       "      <td>A link in their pasts leads an honest cop to a...</td>\n",
       "    </tr>\n",
       "    <tr>\n",
       "      <th>6182</th>\n",
       "      <td>80176842</td>\n",
       "      <td>TV Show</td>\n",
       "      <td>Men on a Mission</td>\n",
       "      <td>Jung-ah Im</td>\n",
       "      <td>Ho-dong Kang, Soo-geun Lee, Sang-min Lee, Youn...</td>\n",
       "      <td>South Korea</td>\n",
       "      <td>April 9, 2019</td>\n",
       "      <td>2019</td>\n",
       "      <td>TV-14</td>\n",
       "      <td>1200</td>\n",
       "      <td>International TV Shows, Korean TV Shows, Stand...</td>\n",
       "      <td>Male celebs play make-believe as high schooler...</td>\n",
       "    </tr>\n",
       "    <tr>\n",
       "      <th>6213</th>\n",
       "      <td>80126599</td>\n",
       "      <td>TV Show</td>\n",
       "      <td>Leyla and Mecnun</td>\n",
       "      <td>Onur Ünlü</td>\n",
       "      <td>Ali Atay, Melis Birkan, Serkan Keskin, Ahmet M...</td>\n",
       "      <td>Turkey</td>\n",
       "      <td>April 15, 2017</td>\n",
       "      <td>2014</td>\n",
       "      <td>TV-PG</td>\n",
       "      <td>900</td>\n",
       "      <td>International TV Shows, Romantic TV Shows, TV ...</td>\n",
       "      <td>Destiny brings Mecnun and Leyla together as ne...</td>\n",
       "    </tr>\n",
       "  </tbody>\n",
       "</table>\n",
       "<p>3774 rows × 12 columns</p>\n",
       "</div>"
      ],
      "text/plain": [
       "       show_id     type                                    title  \\\n",
       "0     81145628    Movie  Norm of the North: King Sized Adventure   \n",
       "4     80125979    Movie                             #realityhigh   \n",
       "6     70304989    Movie                                 Automata   \n",
       "7     80164077    Movie       Fabrizio Copano: Solo pienso en mi   \n",
       "9     70304990    Movie                              Good People   \n",
       "...        ...      ...                                      ...   \n",
       "6142  80063224  TV Show            The Great British Baking Show   \n",
       "6158  80164216  TV Show  Miraculous: Tales of Ladybug & Cat Noir   \n",
       "6167  80115328  TV Show                             Sacred Games   \n",
       "6182  80176842  TV Show                         Men on a Mission   \n",
       "6213  80126599  TV Show                         Leyla and Mecnun   \n",
       "\n",
       "                                  director  \\\n",
       "0                 Richard Finn, Tim Maltby   \n",
       "4                         Fernando Lebrija   \n",
       "6                              Gabe Ibáñez   \n",
       "7          Rodrigo Toro, Francisco Schultz   \n",
       "9                        Henrik Ruben Genz   \n",
       "...                                    ...   \n",
       "6142                       Andy Devonshire   \n",
       "6158                         Thomas Astruc   \n",
       "6167  Vikramaditya Motwane, Anurag Kashyap   \n",
       "6182                            Jung-ah Im   \n",
       "6213                             Onur Ünlü   \n",
       "\n",
       "                                                   cast  \\\n",
       "0     Alan Marriott, Andrew Toth, Brian Dobson, Cole...   \n",
       "4     Nesta Cooper, Kate Walsh, John Michael Higgins...   \n",
       "6     Antonio Banderas, Dylan McDermott, Melanie Gri...   \n",
       "7                                       Fabrizio Copano   \n",
       "9     James Franco, Kate Hudson, Tom Wilkinson, Omar...   \n",
       "...                                                 ...   \n",
       "6142  Mel Giedroyc, Sue Perkins, Mary Berry, Paul Ho...   \n",
       "6158  Cristina Vee, Bryce Papenbrook, Keith Silverst...   \n",
       "6167  Saif Ali Khan, Nawazuddin Siddiqui, Radhika Ap...   \n",
       "6182  Ho-dong Kang, Soo-geun Lee, Sang-min Lee, Youn...   \n",
       "6213  Ali Atay, Melis Birkan, Serkan Keskin, Ahmet M...   \n",
       "\n",
       "                                             country         date_added  \\\n",
       "0           United States, India, South Korea, China  September 9, 2019   \n",
       "4                                      United States  September 8, 2017   \n",
       "6             Bulgaria, United States, Spain, Canada  September 8, 2017   \n",
       "7                                              Chile  September 8, 2017   \n",
       "9     United States, United Kingdom, Denmark, Sweden  September 8, 2017   \n",
       "...                                              ...                ...   \n",
       "6142                                  United Kingdom    August 30, 2019   \n",
       "6158                      France, South Korea, Japan     August 2, 2019   \n",
       "6167                            India, United States    August 15, 2019   \n",
       "6182                                     South Korea      April 9, 2019   \n",
       "6213                                          Turkey     April 15, 2017   \n",
       "\n",
       "      release_year rating duration  \\\n",
       "0             2019  TV-PG   90 min   \n",
       "4             2017  TV-14   99 min   \n",
       "6             2014      R  110 min   \n",
       "7             2017  TV-MA   60 min   \n",
       "9             2014      R   90 min   \n",
       "...            ...    ...      ...   \n",
       "6142          2019  TV-PG     2100   \n",
       "6158          2018  TV-Y7     1200   \n",
       "6167          2019  TV-MA      600   \n",
       "6182          2019  TV-14     1200   \n",
       "6213          2014  TV-PG      900   \n",
       "\n",
       "                                              listed_in  \\\n",
       "0                    Children & Family Movies, Comedies   \n",
       "4                                              Comedies   \n",
       "6     International Movies, Sci-Fi & Fantasy, Thrillers   \n",
       "7                                       Stand-Up Comedy   \n",
       "9                         Action & Adventure, Thrillers   \n",
       "...                                                 ...   \n",
       "6142                       British TV Shows, Reality TV   \n",
       "6158                    Kids' TV, TV Action & Adventure   \n",
       "6167  Crime TV Shows, International TV Shows, TV Dramas   \n",
       "6182  International TV Shows, Korean TV Shows, Stand...   \n",
       "6213  International TV Shows, Romantic TV Shows, TV ...   \n",
       "\n",
       "                                            description  \n",
       "0     Before planning an awesome wedding for his gra...  \n",
       "4     When nerdy high schooler Dani finally attracts...  \n",
       "6     In a dystopian future, an insurance adjuster f...  \n",
       "7     Fabrizio Copano takes audience participation t...  \n",
       "9     A struggling couple can't believe their luck w...  \n",
       "...                                                 ...  \n",
       "6142  A talented batch of amateur bakers face off in...  \n",
       "6158  When Paris is in peril, Marinette becomes Lady...  \n",
       "6167  A link in their pasts leads an honest cop to a...  \n",
       "6182  Male celebs play make-believe as high schooler...  \n",
       "6213  Destiny brings Mecnun and Leyla together as ne...  \n",
       "\n",
       "[3774 rows x 12 columns]"
      ]
     },
     "execution_count": 15,
     "metadata": {},
     "output_type": "execute_result"
    }
   ],
   "source": [
    "data"
   ]
  },
  {
   "cell_type": "code",
   "execution_count": 16,
   "metadata": {},
   "outputs": [],
   "source": [
    "# drop string in values and get only integer value\n",
    "data['duration'] = data['duration'].str.replace(r'\\D', '')"
   ]
  },
  {
   "cell_type": "code",
   "execution_count": 17,
   "metadata": {},
   "outputs": [
    {
     "data": {
      "text/plain": [
       "True"
      ]
     },
     "execution_count": 17,
     "metadata": {},
     "output_type": "execute_result"
    }
   ],
   "source": [
    "from pandas.api.types import is_string_dtype\n",
    "from pandas.api.types import is_numeric_dtype\n",
    "is_string_dtype(data['duration'])"
   ]
  },
  {
   "cell_type": "code",
   "execution_count": 18,
   "metadata": {},
   "outputs": [
    {
     "data": {
      "text/plain": [
       "0         90\n",
       "4         99\n",
       "6        110\n",
       "7         60\n",
       "9         90\n",
       "        ... \n",
       "6142    2100\n",
       "6158    1200\n",
       "6167     600\n",
       "6182    1200\n",
       "6213     900\n",
       "Name: duration, Length: 3774, dtype: object"
      ]
     },
     "execution_count": 18,
     "metadata": {},
     "output_type": "execute_result"
    }
   ],
   "source": [
    "data[\"duration\"]"
   ]
  },
  {
   "cell_type": "code",
   "execution_count": 19,
   "metadata": {},
   "outputs": [
    {
     "data": {
      "text/plain": [
       "False"
      ]
     },
     "execution_count": 19,
     "metadata": {},
     "output_type": "execute_result"
    }
   ],
   "source": [
    "is_numeric_dtype(data['duration'])"
   ]
  },
  {
   "cell_type": "code",
   "execution_count": 20,
   "metadata": {},
   "outputs": [
    {
     "data": {
      "text/plain": [
       "45288"
      ]
     },
     "execution_count": 20,
     "metadata": {},
     "output_type": "execute_result"
    }
   ],
   "source": [
    "data = data.dropna()\n",
    "data.size"
   ]
  },
  {
   "cell_type": "code",
   "execution_count": 21,
   "metadata": {},
   "outputs": [
    {
     "data": {
      "text/html": [
       "<div>\n",
       "<style scoped>\n",
       "    .dataframe tbody tr th:only-of-type {\n",
       "        vertical-align: middle;\n",
       "    }\n",
       "\n",
       "    .dataframe tbody tr th {\n",
       "        vertical-align: top;\n",
       "    }\n",
       "\n",
       "    .dataframe thead th {\n",
       "        text-align: right;\n",
       "    }\n",
       "</style>\n",
       "<table border=\"1\" class=\"dataframe\">\n",
       "  <thead>\n",
       "    <tr style=\"text-align: right;\">\n",
       "      <th></th>\n",
       "      <th>show_id</th>\n",
       "      <th>type</th>\n",
       "      <th>title</th>\n",
       "      <th>director</th>\n",
       "      <th>cast</th>\n",
       "      <th>country</th>\n",
       "      <th>date_added</th>\n",
       "      <th>release_year</th>\n",
       "      <th>rating</th>\n",
       "      <th>duration</th>\n",
       "      <th>listed_in</th>\n",
       "      <th>description</th>\n",
       "    </tr>\n",
       "  </thead>\n",
       "  <tbody>\n",
       "    <tr>\n",
       "      <th>0</th>\n",
       "      <td>81145628</td>\n",
       "      <td>Movie</td>\n",
       "      <td>Norm of the North: King Sized Adventure</td>\n",
       "      <td>Richard Finn, Tim Maltby</td>\n",
       "      <td>Alan Marriott, Andrew Toth, Brian Dobson, Cole...</td>\n",
       "      <td>United States, India, South Korea, China</td>\n",
       "      <td>September 9, 2019</td>\n",
       "      <td>2019</td>\n",
       "      <td>TV-PG</td>\n",
       "      <td>90</td>\n",
       "      <td>Children &amp; Family Movies, Comedies</td>\n",
       "      <td>Before planning an awesome wedding for his gra...</td>\n",
       "    </tr>\n",
       "    <tr>\n",
       "      <th>4</th>\n",
       "      <td>80125979</td>\n",
       "      <td>Movie</td>\n",
       "      <td>#realityhigh</td>\n",
       "      <td>Fernando Lebrija</td>\n",
       "      <td>Nesta Cooper, Kate Walsh, John Michael Higgins...</td>\n",
       "      <td>United States</td>\n",
       "      <td>September 8, 2017</td>\n",
       "      <td>2017</td>\n",
       "      <td>TV-14</td>\n",
       "      <td>99</td>\n",
       "      <td>Comedies</td>\n",
       "      <td>When nerdy high schooler Dani finally attracts...</td>\n",
       "    </tr>\n",
       "    <tr>\n",
       "      <th>6</th>\n",
       "      <td>70304989</td>\n",
       "      <td>Movie</td>\n",
       "      <td>Automata</td>\n",
       "      <td>Gabe Ibáñez</td>\n",
       "      <td>Antonio Banderas, Dylan McDermott, Melanie Gri...</td>\n",
       "      <td>Bulgaria, United States, Spain, Canada</td>\n",
       "      <td>September 8, 2017</td>\n",
       "      <td>2014</td>\n",
       "      <td>R</td>\n",
       "      <td>110</td>\n",
       "      <td>International Movies, Sci-Fi &amp; Fantasy, Thrillers</td>\n",
       "      <td>In a dystopian future, an insurance adjuster f...</td>\n",
       "    </tr>\n",
       "    <tr>\n",
       "      <th>7</th>\n",
       "      <td>80164077</td>\n",
       "      <td>Movie</td>\n",
       "      <td>Fabrizio Copano: Solo pienso en mi</td>\n",
       "      <td>Rodrigo Toro, Francisco Schultz</td>\n",
       "      <td>Fabrizio Copano</td>\n",
       "      <td>Chile</td>\n",
       "      <td>September 8, 2017</td>\n",
       "      <td>2017</td>\n",
       "      <td>TV-MA</td>\n",
       "      <td>60</td>\n",
       "      <td>Stand-Up Comedy</td>\n",
       "      <td>Fabrizio Copano takes audience participation t...</td>\n",
       "    </tr>\n",
       "    <tr>\n",
       "      <th>9</th>\n",
       "      <td>70304990</td>\n",
       "      <td>Movie</td>\n",
       "      <td>Good People</td>\n",
       "      <td>Henrik Ruben Genz</td>\n",
       "      <td>James Franco, Kate Hudson, Tom Wilkinson, Omar...</td>\n",
       "      <td>United States, United Kingdom, Denmark, Sweden</td>\n",
       "      <td>September 8, 2017</td>\n",
       "      <td>2014</td>\n",
       "      <td>R</td>\n",
       "      <td>90</td>\n",
       "      <td>Action &amp; Adventure, Thrillers</td>\n",
       "      <td>A struggling couple can't believe their luck w...</td>\n",
       "    </tr>\n",
       "    <tr>\n",
       "      <th>...</th>\n",
       "      <td>...</td>\n",
       "      <td>...</td>\n",
       "      <td>...</td>\n",
       "      <td>...</td>\n",
       "      <td>...</td>\n",
       "      <td>...</td>\n",
       "      <td>...</td>\n",
       "      <td>...</td>\n",
       "      <td>...</td>\n",
       "      <td>...</td>\n",
       "      <td>...</td>\n",
       "      <td>...</td>\n",
       "    </tr>\n",
       "    <tr>\n",
       "      <th>6142</th>\n",
       "      <td>80063224</td>\n",
       "      <td>TV Show</td>\n",
       "      <td>The Great British Baking Show</td>\n",
       "      <td>Andy Devonshire</td>\n",
       "      <td>Mel Giedroyc, Sue Perkins, Mary Berry, Paul Ho...</td>\n",
       "      <td>United Kingdom</td>\n",
       "      <td>August 30, 2019</td>\n",
       "      <td>2019</td>\n",
       "      <td>TV-PG</td>\n",
       "      <td>2100</td>\n",
       "      <td>British TV Shows, Reality TV</td>\n",
       "      <td>A talented batch of amateur bakers face off in...</td>\n",
       "    </tr>\n",
       "    <tr>\n",
       "      <th>6158</th>\n",
       "      <td>80164216</td>\n",
       "      <td>TV Show</td>\n",
       "      <td>Miraculous: Tales of Ladybug &amp; Cat Noir</td>\n",
       "      <td>Thomas Astruc</td>\n",
       "      <td>Cristina Vee, Bryce Papenbrook, Keith Silverst...</td>\n",
       "      <td>France, South Korea, Japan</td>\n",
       "      <td>August 2, 2019</td>\n",
       "      <td>2018</td>\n",
       "      <td>TV-Y7</td>\n",
       "      <td>1200</td>\n",
       "      <td>Kids' TV, TV Action &amp; Adventure</td>\n",
       "      <td>When Paris is in peril, Marinette becomes Lady...</td>\n",
       "    </tr>\n",
       "    <tr>\n",
       "      <th>6167</th>\n",
       "      <td>80115328</td>\n",
       "      <td>TV Show</td>\n",
       "      <td>Sacred Games</td>\n",
       "      <td>Vikramaditya Motwane, Anurag Kashyap</td>\n",
       "      <td>Saif Ali Khan, Nawazuddin Siddiqui, Radhika Ap...</td>\n",
       "      <td>India, United States</td>\n",
       "      <td>August 15, 2019</td>\n",
       "      <td>2019</td>\n",
       "      <td>TV-MA</td>\n",
       "      <td>600</td>\n",
       "      <td>Crime TV Shows, International TV Shows, TV Dramas</td>\n",
       "      <td>A link in their pasts leads an honest cop to a...</td>\n",
       "    </tr>\n",
       "    <tr>\n",
       "      <th>6182</th>\n",
       "      <td>80176842</td>\n",
       "      <td>TV Show</td>\n",
       "      <td>Men on a Mission</td>\n",
       "      <td>Jung-ah Im</td>\n",
       "      <td>Ho-dong Kang, Soo-geun Lee, Sang-min Lee, Youn...</td>\n",
       "      <td>South Korea</td>\n",
       "      <td>April 9, 2019</td>\n",
       "      <td>2019</td>\n",
       "      <td>TV-14</td>\n",
       "      <td>1200</td>\n",
       "      <td>International TV Shows, Korean TV Shows, Stand...</td>\n",
       "      <td>Male celebs play make-believe as high schooler...</td>\n",
       "    </tr>\n",
       "    <tr>\n",
       "      <th>6213</th>\n",
       "      <td>80126599</td>\n",
       "      <td>TV Show</td>\n",
       "      <td>Leyla and Mecnun</td>\n",
       "      <td>Onur Ünlü</td>\n",
       "      <td>Ali Atay, Melis Birkan, Serkan Keskin, Ahmet M...</td>\n",
       "      <td>Turkey</td>\n",
       "      <td>April 15, 2017</td>\n",
       "      <td>2014</td>\n",
       "      <td>TV-PG</td>\n",
       "      <td>900</td>\n",
       "      <td>International TV Shows, Romantic TV Shows, TV ...</td>\n",
       "      <td>Destiny brings Mecnun and Leyla together as ne...</td>\n",
       "    </tr>\n",
       "  </tbody>\n",
       "</table>\n",
       "<p>3774 rows × 12 columns</p>\n",
       "</div>"
      ],
      "text/plain": [
       "       show_id     type                                    title  \\\n",
       "0     81145628    Movie  Norm of the North: King Sized Adventure   \n",
       "4     80125979    Movie                             #realityhigh   \n",
       "6     70304989    Movie                                 Automata   \n",
       "7     80164077    Movie       Fabrizio Copano: Solo pienso en mi   \n",
       "9     70304990    Movie                              Good People   \n",
       "...        ...      ...                                      ...   \n",
       "6142  80063224  TV Show            The Great British Baking Show   \n",
       "6158  80164216  TV Show  Miraculous: Tales of Ladybug & Cat Noir   \n",
       "6167  80115328  TV Show                             Sacred Games   \n",
       "6182  80176842  TV Show                         Men on a Mission   \n",
       "6213  80126599  TV Show                         Leyla and Mecnun   \n",
       "\n",
       "                                  director  \\\n",
       "0                 Richard Finn, Tim Maltby   \n",
       "4                         Fernando Lebrija   \n",
       "6                              Gabe Ibáñez   \n",
       "7          Rodrigo Toro, Francisco Schultz   \n",
       "9                        Henrik Ruben Genz   \n",
       "...                                    ...   \n",
       "6142                       Andy Devonshire   \n",
       "6158                         Thomas Astruc   \n",
       "6167  Vikramaditya Motwane, Anurag Kashyap   \n",
       "6182                            Jung-ah Im   \n",
       "6213                             Onur Ünlü   \n",
       "\n",
       "                                                   cast  \\\n",
       "0     Alan Marriott, Andrew Toth, Brian Dobson, Cole...   \n",
       "4     Nesta Cooper, Kate Walsh, John Michael Higgins...   \n",
       "6     Antonio Banderas, Dylan McDermott, Melanie Gri...   \n",
       "7                                       Fabrizio Copano   \n",
       "9     James Franco, Kate Hudson, Tom Wilkinson, Omar...   \n",
       "...                                                 ...   \n",
       "6142  Mel Giedroyc, Sue Perkins, Mary Berry, Paul Ho...   \n",
       "6158  Cristina Vee, Bryce Papenbrook, Keith Silverst...   \n",
       "6167  Saif Ali Khan, Nawazuddin Siddiqui, Radhika Ap...   \n",
       "6182  Ho-dong Kang, Soo-geun Lee, Sang-min Lee, Youn...   \n",
       "6213  Ali Atay, Melis Birkan, Serkan Keskin, Ahmet M...   \n",
       "\n",
       "                                             country         date_added  \\\n",
       "0           United States, India, South Korea, China  September 9, 2019   \n",
       "4                                      United States  September 8, 2017   \n",
       "6             Bulgaria, United States, Spain, Canada  September 8, 2017   \n",
       "7                                              Chile  September 8, 2017   \n",
       "9     United States, United Kingdom, Denmark, Sweden  September 8, 2017   \n",
       "...                                              ...                ...   \n",
       "6142                                  United Kingdom    August 30, 2019   \n",
       "6158                      France, South Korea, Japan     August 2, 2019   \n",
       "6167                            India, United States    August 15, 2019   \n",
       "6182                                     South Korea      April 9, 2019   \n",
       "6213                                          Turkey     April 15, 2017   \n",
       "\n",
       "      release_year rating duration  \\\n",
       "0             2019  TV-PG       90   \n",
       "4             2017  TV-14       99   \n",
       "6             2014      R      110   \n",
       "7             2017  TV-MA       60   \n",
       "9             2014      R       90   \n",
       "...            ...    ...      ...   \n",
       "6142          2019  TV-PG     2100   \n",
       "6158          2018  TV-Y7     1200   \n",
       "6167          2019  TV-MA      600   \n",
       "6182          2019  TV-14     1200   \n",
       "6213          2014  TV-PG      900   \n",
       "\n",
       "                                              listed_in  \\\n",
       "0                    Children & Family Movies, Comedies   \n",
       "4                                              Comedies   \n",
       "6     International Movies, Sci-Fi & Fantasy, Thrillers   \n",
       "7                                       Stand-Up Comedy   \n",
       "9                         Action & Adventure, Thrillers   \n",
       "...                                                 ...   \n",
       "6142                       British TV Shows, Reality TV   \n",
       "6158                    Kids' TV, TV Action & Adventure   \n",
       "6167  Crime TV Shows, International TV Shows, TV Dramas   \n",
       "6182  International TV Shows, Korean TV Shows, Stand...   \n",
       "6213  International TV Shows, Romantic TV Shows, TV ...   \n",
       "\n",
       "                                            description  \n",
       "0     Before planning an awesome wedding for his gra...  \n",
       "4     When nerdy high schooler Dani finally attracts...  \n",
       "6     In a dystopian future, an insurance adjuster f...  \n",
       "7     Fabrizio Copano takes audience participation t...  \n",
       "9     A struggling couple can't believe their luck w...  \n",
       "...                                                 ...  \n",
       "6142  A talented batch of amateur bakers face off in...  \n",
       "6158  When Paris is in peril, Marinette becomes Lady...  \n",
       "6167  A link in their pasts leads an honest cop to a...  \n",
       "6182  Male celebs play make-believe as high schooler...  \n",
       "6213  Destiny brings Mecnun and Leyla together as ne...  \n",
       "\n",
       "[3774 rows x 12 columns]"
      ]
     },
     "execution_count": 21,
     "metadata": {},
     "output_type": "execute_result"
    }
   ],
   "source": [
    "data"
   ]
  },
  {
   "cell_type": "code",
   "execution_count": 22,
   "metadata": {},
   "outputs": [
    {
     "data": {
      "text/plain": [
       "True"
      ]
     },
     "execution_count": 22,
     "metadata": {},
     "output_type": "execute_result"
    }
   ],
   "source": [
    "data['duration'] = pd.to_numeric(data['duration'])\n",
    "is_numeric_dtype(data['duration'])\n"
   ]
  },
  {
   "cell_type": "code",
   "execution_count": 23,
   "metadata": {},
   "outputs": [],
   "source": [
    "import matplotlib.pyplot as plt"
   ]
  },
  {
   "cell_type": "code",
   "execution_count": 24,
   "metadata": {},
   "outputs": [
    {
     "data": {
      "image/png": "[encoded data removed]",
      "text/plain": [
       "<Figure size 1728x720 with 1 Axes>"
      ]
     },
     "metadata": {
      "needs_background": "light"
     },
     "output_type": "display_data"
    }
   ],
   "source": [
    "plt.figure(figsize=(24,10))\n",
    "x = data['rating']\n",
    "y = data['duration']\n",
    "plt.scatter(x,y)\n",
    "plt.show()"
   ]
  },
  {
   "cell_type": "code",
   "execution_count": 31,
   "metadata": {},
   "outputs": [
    {
     "data": {
      "image/png": "[encoded data removed]",
      "text/plain": [
       "<Figure size 1440x720 with 1 Axes>"
      ]
     },
     "metadata": {
      "needs_background": "light"
     },
     "output_type": "display_data"
    }
   ],
   "source": [
    "plt.figure(figsize=(20,10))\n",
    "plt.hist(x,bins=30)\n",
    "plt.show()"
   ]
  },
  {
   "cell_type": "code",
   "execution_count": 44,
   "metadata": {},
   "outputs": [
    {
     "data": {
      "text/plain": [
       "<matplotlib.colorbar.Colorbar at 0x237c42a6d30>"
      ]
     },
     "execution_count": 44,
     "metadata": {},
     "output_type": "execute_result"
    },
    {
     "data": {
      "image/png": "[encoded data removed]",
      "text/plain": [
       "<Figure size 432x288 with 2 Axes>"
      ]
     },
     "metadata": {
      "needs_background": "light"
     },
     "output_type": "display_data"
    }
   ],
   "source": [
    "A = data['release_year']\n",
    "B = data['duration']\n",
    "plt.hist2d(A,B,cmap='Blues')\n",
    "plt.xlabel('release_year')\n",
    "plt.ylabel('duration')\n",
    "plt.colorbar()"
   ]
  },
  {
   "cell_type": "code",
   "execution_count": 39,
   "metadata": {},
   "outputs": [
    {
     "data": {
      "text/plain": [
       "True"
      ]
     },
     "execution_count": 39,
     "metadata": {},
     "output_type": "execute_result"
    }
   ],
   "source": [
    "is_numeric_dtype(data['duration'])"
   ]
  },
  {
   "cell_type": "code",
   "execution_count": null,
   "metadata": {},
   "outputs": [],
   "source": []
  }
 ],
 "metadata": {
  "kernelspec": {
   "display_name": "Python 3",
   "language": "python",
   "name": "python3"
  },
  "language_info": {
   "codemirror_mode": {
    "name": "ipython",
    "version": 3
   },
   "file_extension": ".py",
   "mimetype": "text/x-python",
   "name": "python",
   "nbconvert_exporter": "python",
   "pygments_lexer": "ipython3",
   "version": "3.8.5"
  }
 },
 "nbformat": 4,
 "nbformat_minor": 2
}
